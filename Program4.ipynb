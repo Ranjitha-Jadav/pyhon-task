{
 "cells": [
  {
   "cell_type": "code",
   "execution_count": null,
   "metadata": {},
   "outputs": [],
   "source": [
    "#sort the value of 1st list using second list"
   ]
  },
  {
   "cell_type": "code",
   "execution_count": 2,
   "metadata": {},
   "outputs": [
    {
     "name": "stdout",
     "output_type": "stream",
     "text": [
      "['a', 'd', 'h', 'b', 'c', 'e', 'i', 'f', 'g']\n"
     ]
    }
   ],
   "source": [
    "# Python program to sort \n",
    "# one list using\n",
    "# the other list\n",
    " \n",
    "def sort_list(list1, list2):\n",
    " \n",
    "    zipped_pairs = zip(list2, list1)\n",
    " \n",
    "    z = [x for _, x in sorted(zipped_pairs)]\n",
    "     \n",
    "    return z\n",
    "     \n",
    " \n",
    "\n",
    "x = [\"a\", \"b\", \"c\", \"d\", \"e\", \"f\", \"g\", \"h\", \"i\"]\n",
    "y = [ 0,   1,   1,    0,   1,   2,   2,   0,   1]\n",
    " \n",
    "print(sort_list(x, y))\n",
    " \n",
    "x = [\"g\", \"e\", \"e\", \"k\", \"s\", \"f\", \"o\", \"r\", \"g\", \"e\", \"e\", \"k\", \"s\"]\n",
    "y = [ 0,   1,   1,    0,   1,   2,   2,   0,   1]\n",
    " \n",
    "#print(sort_list(x, y))"
   ]
  },
  {
   "cell_type": "code",
   "execution_count": 3,
   "metadata": {},
   "outputs": [
    {
     "name": "stdout",
     "output_type": "stream",
     "text": [
      "[10, 30, 60, 100, 150]\n"
     ]
    }
   ],
   "source": [
    "#to find Cumulative sum of a list\n",
    "list=[10,20,30,40,50]\n",
    "new_list=[] \n",
    "j=0\n",
    "for i in range(0,len(list)):\n",
    "    j+=list[i]\n",
    "    new_list.append(j) \n",
    "     \n",
    "print(new_list)"
   ]
  },
  {
   "cell_type": "code",
   "execution_count": 5,
   "metadata": {},
   "outputs": [
    {
     "name": "stdout",
     "output_type": "stream",
     "text": [
      "New list after removing all even numbers:  [11, 5, 17, 23, 50]\n"
     ]
    }
   ],
   "source": [
    "# Python program to remove multiple \n",
    "# elements from a list  \n",
    "  \n",
    "# creating a list \n",
    "list1 = [11, 5, 17, 18, 23, 50]  \n",
    "  \n",
    "# Iterate each element in list \n",
    "# and add them in variale total \n",
    "for ele in list1: \n",
    "    if ele % 3 == 0: \n",
    "        list1.remove(ele) \n",
    "  \n",
    "# printing modified list \n",
    "print(\"New list after removing all even numbers: \", list1) "
   ]
  },
  {
   "cell_type": "code",
   "execution_count": 6,
   "metadata": {},
   "outputs": [
    {
     "name": "stdout",
     "output_type": "stream",
     "text": [
      "11 5 17 23\n"
     ]
    }
   ],
   "source": [
    "# Python program to remove multiple \n",
    "# elements from a list  \n",
    "  \n",
    "# creating a list \n",
    "list1 = [11, 5, 17, 18, 23, 50]  \n",
    "  \n",
    "# will create a new list,  \n",
    "# excluding all even numbers \n",
    "list1 = [ elem for elem in list1 if elem % 2 != 0] \n",
    "  \n",
    "print(*list1) "
   ]
  },
  {
   "cell_type": "code",
   "execution_count": null,
   "metadata": {},
   "outputs": [],
   "source": []
  }
 ],
 "metadata": {
  "kernelspec": {
   "display_name": "Python 3",
   "language": "python",
   "name": "python3"
  },
  "language_info": {
   "codemirror_mode": {
    "name": "ipython",
    "version": 3
   },
   "file_extension": ".py",
   "mimetype": "text/x-python",
   "name": "python",
   "nbconvert_exporter": "python",
   "pygments_lexer": "ipython3",
   "version": "3.8.3"
  }
 },
 "nbformat": 4,
 "nbformat_minor": 4
}
