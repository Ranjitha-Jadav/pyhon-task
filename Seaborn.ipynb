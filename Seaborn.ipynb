{
 "cells": [
  {
   "cell_type": "code",
   "execution_count": 1,
   "metadata": {},
   "outputs": [
    {
     "name": "stdout",
     "output_type": "stream",
     "text": [
      "Requirement already satisfied: seaborn in c:\\programdata\\anaconda3\\lib\\site-packages (0.10.1)\n",
      "Requirement already satisfied: scipy>=1.0.1 in c:\\programdata\\anaconda3\\lib\\site-packages (from seaborn) (1.5.0)\n",
      "Requirement already satisfied: numpy>=1.13.3 in c:\\programdata\\anaconda3\\lib\\site-packages (from seaborn) (1.18.5)\n",
      "Requirement already satisfied: matplotlib>=2.1.2 in c:\\programdata\\anaconda3\\lib\\site-packages (from seaborn) (3.2.2)\n",
      "Requirement already satisfied: pandas>=0.22.0 in c:\\programdata\\anaconda3\\lib\\site-packages (from seaborn) (1.0.5)\n",
      "Requirement already satisfied: pyparsing!=2.0.4,!=2.1.2,!=2.1.6,>=2.0.1 in c:\\programdata\\anaconda3\\lib\\site-packages (from matplotlib>=2.1.2->seaborn) (2.4.7)\n",
      "Requirement already satisfied: python-dateutil>=2.1 in c:\\programdata\\anaconda3\\lib\\site-packages (from matplotlib>=2.1.2->seaborn) (2.8.1)\n",
      "Requirement already satisfied: kiwisolver>=1.0.1 in c:\\programdata\\anaconda3\\lib\\site-packages (from matplotlib>=2.1.2->seaborn) (1.2.0)\n",
      "Requirement already satisfied: cycler>=0.10 in c:\\programdata\\anaconda3\\lib\\site-packages (from matplotlib>=2.1.2->seaborn) (0.10.0)\n",
      "Requirement already satisfied: pytz>=2017.2 in c:\\programdata\\anaconda3\\lib\\site-packages (from pandas>=0.22.0->seaborn) (2020.1)\n",
      "Requirement already satisfied: six>=1.5 in c:\\programdata\\anaconda3\\lib\\site-packages (from python-dateutil>=2.1->matplotlib>=2.1.2->seaborn) (1.15.0)\n"
     ]
    }
   ],
   "source": [
    "!pip install seaborn"
   ]
  },
  {
   "cell_type": "code",
   "execution_count": 2,
   "metadata": {},
   "outputs": [],
   "source": [
    "import seaborn as sns\n",
    "import pandas as pd\n",
    "import matplotlib.pyplot as plt"
   ]
  },
  {
   "cell_type": "code",
   "execution_count": 4,
   "metadata": {},
   "outputs": [
    {
     "data": {
      "text/html": [
       "<div>\n",
       "<style scoped>\n",
       "    .dataframe tbody tr th:only-of-type {\n",
       "        vertical-align: middle;\n",
       "    }\n",
       "\n",
       "    .dataframe tbody tr th {\n",
       "        vertical-align: top;\n",
       "    }\n",
       "\n",
       "    .dataframe thead th {\n",
       "        text-align: right;\n",
       "    }\n",
       "</style>\n",
       "<table border=\"1\" class=\"dataframe\">\n",
       "  <thead>\n",
       "    <tr style=\"text-align: right;\">\n",
       "      <th></th>\n",
       "      <th>subject</th>\n",
       "      <th>timepoint</th>\n",
       "      <th>event</th>\n",
       "      <th>region</th>\n",
       "      <th>signal</th>\n",
       "    </tr>\n",
       "  </thead>\n",
       "  <tbody>\n",
       "    <tr>\n",
       "      <th>0</th>\n",
       "      <td>s13</td>\n",
       "      <td>18</td>\n",
       "      <td>stim</td>\n",
       "      <td>parietal</td>\n",
       "      <td>-0.017552</td>\n",
       "    </tr>\n",
       "    <tr>\n",
       "      <th>1</th>\n",
       "      <td>s5</td>\n",
       "      <td>14</td>\n",
       "      <td>stim</td>\n",
       "      <td>parietal</td>\n",
       "      <td>-0.080883</td>\n",
       "    </tr>\n",
       "    <tr>\n",
       "      <th>2</th>\n",
       "      <td>s12</td>\n",
       "      <td>18</td>\n",
       "      <td>stim</td>\n",
       "      <td>parietal</td>\n",
       "      <td>-0.081033</td>\n",
       "    </tr>\n",
       "    <tr>\n",
       "      <th>3</th>\n",
       "      <td>s11</td>\n",
       "      <td>18</td>\n",
       "      <td>stim</td>\n",
       "      <td>parietal</td>\n",
       "      <td>-0.046134</td>\n",
       "    </tr>\n",
       "    <tr>\n",
       "      <th>4</th>\n",
       "      <td>s10</td>\n",
       "      <td>18</td>\n",
       "      <td>stim</td>\n",
       "      <td>parietal</td>\n",
       "      <td>-0.037970</td>\n",
       "    </tr>\n",
       "  </tbody>\n",
       "</table>\n",
       "</div>"
      ],
      "text/plain": [
       "  subject  timepoint event    region    signal\n",
       "0     s13         18  stim  parietal -0.017552\n",
       "1      s5         14  stim  parietal -0.080883\n",
       "2     s12         18  stim  parietal -0.081033\n",
       "3     s11         18  stim  parietal -0.046134\n",
       "4     s10         18  stim  parietal -0.037970"
      ]
     },
     "execution_count": 4,
     "metadata": {},
     "output_type": "execute_result"
    }
   ],
   "source": [
    "fmri=sns.load_dataset(\"fmri\")\n",
    "fmri.head()"
   ]
  },
  {
   "cell_type": "code",
   "execution_count": 5,
   "metadata": {},
   "outputs": [
    {
     "data": {
      "text/html": [
       "<div>\n",
       "<style scoped>\n",
       "    .dataframe tbody tr th:only-of-type {\n",
       "        vertical-align: middle;\n",
       "    }\n",
       "\n",
       "    .dataframe tbody tr th {\n",
       "        vertical-align: top;\n",
       "    }\n",
       "\n",
       "    .dataframe thead th {\n",
       "        text-align: right;\n",
       "    }\n",
       "</style>\n",
       "<table border=\"1\" class=\"dataframe\">\n",
       "  <thead>\n",
       "    <tr style=\"text-align: right;\">\n",
       "      <th></th>\n",
       "      <th>subject</th>\n",
       "      <th>timepoint</th>\n",
       "      <th>event</th>\n",
       "      <th>region</th>\n",
       "      <th>signal</th>\n",
       "    </tr>\n",
       "  </thead>\n",
       "  <tbody>\n",
       "    <tr>\n",
       "      <th>1059</th>\n",
       "      <td>s0</td>\n",
       "      <td>8</td>\n",
       "      <td>cue</td>\n",
       "      <td>frontal</td>\n",
       "      <td>0.018165</td>\n",
       "    </tr>\n",
       "    <tr>\n",
       "      <th>1060</th>\n",
       "      <td>s13</td>\n",
       "      <td>7</td>\n",
       "      <td>cue</td>\n",
       "      <td>frontal</td>\n",
       "      <td>-0.029130</td>\n",
       "    </tr>\n",
       "    <tr>\n",
       "      <th>1061</th>\n",
       "      <td>s12</td>\n",
       "      <td>7</td>\n",
       "      <td>cue</td>\n",
       "      <td>frontal</td>\n",
       "      <td>-0.004939</td>\n",
       "    </tr>\n",
       "    <tr>\n",
       "      <th>1062</th>\n",
       "      <td>s11</td>\n",
       "      <td>7</td>\n",
       "      <td>cue</td>\n",
       "      <td>frontal</td>\n",
       "      <td>-0.025367</td>\n",
       "    </tr>\n",
       "    <tr>\n",
       "      <th>1063</th>\n",
       "      <td>s0</td>\n",
       "      <td>0</td>\n",
       "      <td>cue</td>\n",
       "      <td>parietal</td>\n",
       "      <td>-0.006899</td>\n",
       "    </tr>\n",
       "  </tbody>\n",
       "</table>\n",
       "</div>"
      ],
      "text/plain": [
       "     subject  timepoint event    region    signal\n",
       "1059      s0          8   cue   frontal  0.018165\n",
       "1060     s13          7   cue   frontal -0.029130\n",
       "1061     s12          7   cue   frontal -0.004939\n",
       "1062     s11          7   cue   frontal -0.025367\n",
       "1063      s0          0   cue  parietal -0.006899"
      ]
     },
     "execution_count": 5,
     "metadata": {},
     "output_type": "execute_result"
    }
   ],
   "source": [
    "fmri.tail()"
   ]
  },
  {
   "cell_type": "code",
   "execution_count": 7,
   "metadata": {},
   "outputs": [
    {
     "data": {
      "image/png": "[encoded data removed]",
      "text/plain": [
       "<Figure size 432x288 with 1 Axes>"
      ]
     },
     "metadata": {
      "needs_background": "light"
     },
     "output_type": "display_data"
    }
   ],
   "source": [
    "sns.lineplot(x=\"timepoint\",y=\"signal\",data=fmri)\n",
    "plt.show()"
   ]
  },
  {
   "cell_type": "code",
   "execution_count": 8,
   "metadata": {},
   "outputs": [
    {
     "data": {
      "text/plain": [
       "<matplotlib.axes._subplots.AxesSubplot at 0x500c52b730>"
      ]
     },
     "execution_count": 8,
     "metadata": {},
     "output_type": "execute_result"
    },
    {
     "data": {
      "image/png": "[encoded data removed]",
      "text/plain": [
       "<Figure size 432x288 with 1 Axes>"
      ]
     },
     "metadata": {
      "needs_background": "light"
     },
     "output_type": "display_data"
    }
   ],
   "source": [
    "sns.lineplot(x=\"timepoint\",y=\"signal\",hue=\"event\",data=fmri)"
   ]
  },
  {
   "cell_type": "code",
   "execution_count": 12,
   "metadata": {},
   "outputs": [
    {
     "data": {
      "text/plain": [
       "<matplotlib.axes._subplots.AxesSubplot at 0x500cdaedc0>"
      ]
     },
     "execution_count": 12,
     "metadata": {},
     "output_type": "execute_result"
    },
    {
     "data": {
      "image/png": "[encoded data removed]",
      "text/plain": [
       "<Figure size 432x288 with 1 Axes>"
      ]
     },
     "metadata": {
      "needs_background": "light"
     },
     "output_type": "display_data"
    }
   ],
   "source": [
    "sns.lineplot(x=\"timepoint\",y=\"signal\",hue=\"event\",style=\"event\",markers=True,data=fmri)"
   ]
  },
  {
   "cell_type": "code",
   "execution_count": 13,
   "metadata": {},
   "outputs": [],
   "source": [
    "#BARPLOT"
   ]
  },
  {
   "cell_type": "code",
   "execution_count": 14,
   "metadata": {},
   "outputs": [
    {
     "data": {
      "text/html": [
       "<div>\n",
       "<style scoped>\n",
       "    .dataframe tbody tr th:only-of-type {\n",
       "        vertical-align: middle;\n",
       "    }\n",
       "\n",
       "    .dataframe tbody tr th {\n",
       "        vertical-align: top;\n",
       "    }\n",
       "\n",
       "    .dataframe thead th {\n",
       "        text-align: right;\n",
       "    }\n",
       "</style>\n",
       "<table border=\"1\" class=\"dataframe\">\n",
       "  <thead>\n",
       "    <tr style=\"text-align: right;\">\n",
       "      <th></th>\n",
       "      <th>Name</th>\n",
       "      <th>Number</th>\n",
       "      <th>Normal</th>\n",
       "      <th>Fire</th>\n",
       "      <th>Water</th>\n",
       "      <th>Electric</th>\n",
       "      <th>Grass</th>\n",
       "      <th>Ice</th>\n",
       "      <th>Fighting</th>\n",
       "      <th>Poison</th>\n",
       "      <th>Ground</th>\n",
       "      <th>Flying</th>\n",
       "      <th>Psychic</th>\n",
       "      <th>Bug</th>\n",
       "      <th>Rock</th>\n",
       "      <th>Ghost</th>\n",
       "      <th>Dragon</th>\n",
       "      <th>Dark</th>\n",
       "      <th>Steel</th>\n",
       "      <th>Fairy</th>\n",
       "    </tr>\n",
       "  </thead>\n",
       "  <tbody>\n",
       "    <tr>\n",
       "      <th>0</th>\n",
       "      <td>Bulbasaur</td>\n",
       "      <td>#001</td>\n",
       "      <td>*1</td>\n",
       "      <td>*2</td>\n",
       "      <td>*0.5</td>\n",
       "      <td>*0.5</td>\n",
       "      <td>*0.25</td>\n",
       "      <td>*2</td>\n",
       "      <td>*0.5</td>\n",
       "      <td>*1</td>\n",
       "      <td>*1</td>\n",
       "      <td>*2</td>\n",
       "      <td>*2</td>\n",
       "      <td>*1</td>\n",
       "      <td>*1</td>\n",
       "      <td>*1</td>\n",
       "      <td>*1</td>\n",
       "      <td>*1</td>\n",
       "      <td>*1</td>\n",
       "      <td>*0.5</td>\n",
       "    </tr>\n",
       "    <tr>\n",
       "      <th>1</th>\n",
       "      <td>Ivysaur</td>\n",
       "      <td>#002</td>\n",
       "      <td>*1</td>\n",
       "      <td>*2</td>\n",
       "      <td>*0.5</td>\n",
       "      <td>*0.5</td>\n",
       "      <td>*0.25</td>\n",
       "      <td>*2</td>\n",
       "      <td>*0.5</td>\n",
       "      <td>*1</td>\n",
       "      <td>*1</td>\n",
       "      <td>*2</td>\n",
       "      <td>*2</td>\n",
       "      <td>*1</td>\n",
       "      <td>*1</td>\n",
       "      <td>*1</td>\n",
       "      <td>*1</td>\n",
       "      <td>*1</td>\n",
       "      <td>*1</td>\n",
       "      <td>*0.5</td>\n",
       "    </tr>\n",
       "    <tr>\n",
       "      <th>2</th>\n",
       "      <td>Venusaur</td>\n",
       "      <td>#003</td>\n",
       "      <td>*1</td>\n",
       "      <td>*2</td>\n",
       "      <td>*0.5</td>\n",
       "      <td>*0.5</td>\n",
       "      <td>*0.25</td>\n",
       "      <td>*2</td>\n",
       "      <td>*0.5</td>\n",
       "      <td>*1</td>\n",
       "      <td>*1</td>\n",
       "      <td>*2</td>\n",
       "      <td>*2</td>\n",
       "      <td>*1</td>\n",
       "      <td>*1</td>\n",
       "      <td>*1</td>\n",
       "      <td>*1</td>\n",
       "      <td>*1</td>\n",
       "      <td>*1</td>\n",
       "      <td>*0.5</td>\n",
       "    </tr>\n",
       "    <tr>\n",
       "      <th>3</th>\n",
       "      <td>Charmander</td>\n",
       "      <td>#004</td>\n",
       "      <td>*1</td>\n",
       "      <td>*0.5</td>\n",
       "      <td>*2</td>\n",
       "      <td>*1</td>\n",
       "      <td>*0.5</td>\n",
       "      <td>*0.5</td>\n",
       "      <td>*1</td>\n",
       "      <td>*1</td>\n",
       "      <td>*2</td>\n",
       "      <td>*1</td>\n",
       "      <td>*1</td>\n",
       "      <td>*0.5</td>\n",
       "      <td>*2</td>\n",
       "      <td>*1</td>\n",
       "      <td>*1</td>\n",
       "      <td>*1</td>\n",
       "      <td>*0.5</td>\n",
       "      <td>*0.5</td>\n",
       "    </tr>\n",
       "    <tr>\n",
       "      <th>4</th>\n",
       "      <td>Charmeleon</td>\n",
       "      <td>#005</td>\n",
       "      <td>*1</td>\n",
       "      <td>*0.5</td>\n",
       "      <td>*2</td>\n",
       "      <td>*1</td>\n",
       "      <td>*0.5</td>\n",
       "      <td>*0.5</td>\n",
       "      <td>*1</td>\n",
       "      <td>*1</td>\n",
       "      <td>*2</td>\n",
       "      <td>*1</td>\n",
       "      <td>*1</td>\n",
       "      <td>*0.5</td>\n",
       "      <td>*2</td>\n",
       "      <td>*1</td>\n",
       "      <td>*1</td>\n",
       "      <td>*1</td>\n",
       "      <td>*0.5</td>\n",
       "      <td>*0.5</td>\n",
       "    </tr>\n",
       "  </tbody>\n",
       "</table>\n",
       "</div>"
      ],
      "text/plain": [
       "         Name Number Normal  Fire Water Electric  Grass   Ice Fighting Poison  \\\n",
       "0   Bulbasaur   #001     *1    *2  *0.5     *0.5  *0.25    *2     *0.5     *1   \n",
       "1     Ivysaur   #002     *1    *2  *0.5     *0.5  *0.25    *2     *0.5     *1   \n",
       "2    Venusaur   #003     *1    *2  *0.5     *0.5  *0.25    *2     *0.5     *1   \n",
       "3  Charmander   #004     *1  *0.5    *2       *1   *0.5  *0.5       *1     *1   \n",
       "4  Charmeleon   #005     *1  *0.5    *2       *1   *0.5  *0.5       *1     *1   \n",
       "\n",
       "  Ground Flying Psychic   Bug Rock Ghost Dragon Dark Steel Fairy  \n",
       "0     *1     *2      *2    *1   *1    *1     *1   *1    *1  *0.5  \n",
       "1     *1     *2      *2    *1   *1    *1     *1   *1    *1  *0.5  \n",
       "2     *1     *2      *2    *1   *1    *1     *1   *1    *1  *0.5  \n",
       "3     *2     *1      *1  *0.5   *2    *1     *1   *1  *0.5  *0.5  \n",
       "4     *2     *1      *1  *0.5   *2    *1     *1   *1  *0.5  *0.5  "
      ]
     },
     "execution_count": 14,
     "metadata": {},
     "output_type": "execute_result"
    }
   ],
   "source": [
    "poki=pd.read_csv(\"PokeType.csv\")\n",
    "poki.head()"
   ]
  },
  {
   "cell_type": "code",
   "execution_count": 15,
   "metadata": {},
   "outputs": [
    {
     "data": {
      "text/html": [
       "<div>\n",
       "<style scoped>\n",
       "    .dataframe tbody tr th:only-of-type {\n",
       "        vertical-align: middle;\n",
       "    }\n",
       "\n",
       "    .dataframe tbody tr th {\n",
       "        vertical-align: top;\n",
       "    }\n",
       "\n",
       "    .dataframe thead th {\n",
       "        text-align: right;\n",
       "    }\n",
       "</style>\n",
       "<table border=\"1\" class=\"dataframe\">\n",
       "  <thead>\n",
       "    <tr style=\"text-align: right;\">\n",
       "      <th></th>\n",
       "      <th>Name</th>\n",
       "      <th>Number</th>\n",
       "      <th>Normal</th>\n",
       "      <th>Fire</th>\n",
       "      <th>Water</th>\n",
       "      <th>Electric</th>\n",
       "      <th>Grass</th>\n",
       "      <th>Ice</th>\n",
       "      <th>Fighting</th>\n",
       "      <th>Poison</th>\n",
       "      <th>Ground</th>\n",
       "      <th>Flying</th>\n",
       "      <th>Psychic</th>\n",
       "      <th>Bug</th>\n",
       "      <th>Rock</th>\n",
       "      <th>Ghost</th>\n",
       "      <th>Dragon</th>\n",
       "      <th>Dark</th>\n",
       "      <th>Steel</th>\n",
       "      <th>Fairy</th>\n",
       "    </tr>\n",
       "  </thead>\n",
       "  <tbody>\n",
       "    <tr>\n",
       "      <th>0</th>\n",
       "      <td>Bulbasaur</td>\n",
       "      <td>#001</td>\n",
       "      <td>*1</td>\n",
       "      <td>*2</td>\n",
       "      <td>*0.5</td>\n",
       "      <td>*0.5</td>\n",
       "      <td>*0.25</td>\n",
       "      <td>*2</td>\n",
       "      <td>*0.5</td>\n",
       "      <td>*1</td>\n",
       "      <td>*1</td>\n",
       "      <td>*2</td>\n",
       "      <td>*2</td>\n",
       "      <td>*1</td>\n",
       "      <td>*1</td>\n",
       "      <td>*1</td>\n",
       "      <td>*1</td>\n",
       "      <td>*1</td>\n",
       "      <td>*1</td>\n",
       "      <td>*0.5</td>\n",
       "    </tr>\n",
       "    <tr>\n",
       "      <th>1</th>\n",
       "      <td>Ivysaur</td>\n",
       "      <td>#002</td>\n",
       "      <td>*1</td>\n",
       "      <td>*2</td>\n",
       "      <td>*0.5</td>\n",
       "      <td>*0.5</td>\n",
       "      <td>*0.25</td>\n",
       "      <td>*2</td>\n",
       "      <td>*0.5</td>\n",
       "      <td>*1</td>\n",
       "      <td>*1</td>\n",
       "      <td>*2</td>\n",
       "      <td>*2</td>\n",
       "      <td>*1</td>\n",
       "      <td>*1</td>\n",
       "      <td>*1</td>\n",
       "      <td>*1</td>\n",
       "      <td>*1</td>\n",
       "      <td>*1</td>\n",
       "      <td>*0.5</td>\n",
       "    </tr>\n",
       "    <tr>\n",
       "      <th>2</th>\n",
       "      <td>Venusaur</td>\n",
       "      <td>#003</td>\n",
       "      <td>*1</td>\n",
       "      <td>*2</td>\n",
       "      <td>*0.5</td>\n",
       "      <td>*0.5</td>\n",
       "      <td>*0.25</td>\n",
       "      <td>*2</td>\n",
       "      <td>*0.5</td>\n",
       "      <td>*1</td>\n",
       "      <td>*1</td>\n",
       "      <td>*2</td>\n",
       "      <td>*2</td>\n",
       "      <td>*1</td>\n",
       "      <td>*1</td>\n",
       "      <td>*1</td>\n",
       "      <td>*1</td>\n",
       "      <td>*1</td>\n",
       "      <td>*1</td>\n",
       "      <td>*0.5</td>\n",
       "    </tr>\n",
       "    <tr>\n",
       "      <th>3</th>\n",
       "      <td>Charmander</td>\n",
       "      <td>#004</td>\n",
       "      <td>*1</td>\n",
       "      <td>*0.5</td>\n",
       "      <td>*2</td>\n",
       "      <td>*1</td>\n",
       "      <td>*0.5</td>\n",
       "      <td>*0.5</td>\n",
       "      <td>*1</td>\n",
       "      <td>*1</td>\n",
       "      <td>*2</td>\n",
       "      <td>*1</td>\n",
       "      <td>*1</td>\n",
       "      <td>*0.5</td>\n",
       "      <td>*2</td>\n",
       "      <td>*1</td>\n",
       "      <td>*1</td>\n",
       "      <td>*1</td>\n",
       "      <td>*0.5</td>\n",
       "      <td>*0.5</td>\n",
       "    </tr>\n",
       "    <tr>\n",
       "      <th>4</th>\n",
       "      <td>Charmeleon</td>\n",
       "      <td>#005</td>\n",
       "      <td>*1</td>\n",
       "      <td>*0.5</td>\n",
       "      <td>*2</td>\n",
       "      <td>*1</td>\n",
       "      <td>*0.5</td>\n",
       "      <td>*0.5</td>\n",
       "      <td>*1</td>\n",
       "      <td>*1</td>\n",
       "      <td>*2</td>\n",
       "      <td>*1</td>\n",
       "      <td>*1</td>\n",
       "      <td>*0.5</td>\n",
       "      <td>*2</td>\n",
       "      <td>*1</td>\n",
       "      <td>*1</td>\n",
       "      <td>*1</td>\n",
       "      <td>*0.5</td>\n",
       "      <td>*0.5</td>\n",
       "    </tr>\n",
       "    <tr>\n",
       "      <th>5</th>\n",
       "      <td>Charizard</td>\n",
       "      <td>#006</td>\n",
       "      <td>*1</td>\n",
       "      <td>*0.5</td>\n",
       "      <td>*2</td>\n",
       "      <td>*2</td>\n",
       "      <td>*0.25</td>\n",
       "      <td>*1</td>\n",
       "      <td>*0.5</td>\n",
       "      <td>*1</td>\n",
       "      <td>*0</td>\n",
       "      <td>*1</td>\n",
       "      <td>*1</td>\n",
       "      <td>*0.25</td>\n",
       "      <td>*4</td>\n",
       "      <td>*1</td>\n",
       "      <td>*1</td>\n",
       "      <td>*1</td>\n",
       "      <td>*0.5</td>\n",
       "      <td>*0.5</td>\n",
       "    </tr>\n",
       "    <tr>\n",
       "      <th>6</th>\n",
       "      <td>Squirtle</td>\n",
       "      <td>#007</td>\n",
       "      <td>*1</td>\n",
       "      <td>*0.5</td>\n",
       "      <td>*0.5</td>\n",
       "      <td>*2</td>\n",
       "      <td>*2</td>\n",
       "      <td>*0.5</td>\n",
       "      <td>*1</td>\n",
       "      <td>*1</td>\n",
       "      <td>*1</td>\n",
       "      <td>*1</td>\n",
       "      <td>*1</td>\n",
       "      <td>*1</td>\n",
       "      <td>*1</td>\n",
       "      <td>*1</td>\n",
       "      <td>*1</td>\n",
       "      <td>*1</td>\n",
       "      <td>*0.5</td>\n",
       "      <td>*1</td>\n",
       "    </tr>\n",
       "    <tr>\n",
       "      <th>7</th>\n",
       "      <td>Wartortle</td>\n",
       "      <td>#008</td>\n",
       "      <td>*1</td>\n",
       "      <td>*0.5</td>\n",
       "      <td>*0.5</td>\n",
       "      <td>*2</td>\n",
       "      <td>*2</td>\n",
       "      <td>*0.5</td>\n",
       "      <td>*1</td>\n",
       "      <td>*1</td>\n",
       "      <td>*1</td>\n",
       "      <td>*1</td>\n",
       "      <td>*1</td>\n",
       "      <td>*1</td>\n",
       "      <td>*1</td>\n",
       "      <td>*1</td>\n",
       "      <td>*1</td>\n",
       "      <td>*1</td>\n",
       "      <td>*0.5</td>\n",
       "      <td>*1</td>\n",
       "    </tr>\n",
       "    <tr>\n",
       "      <th>8</th>\n",
       "      <td>Blastoise</td>\n",
       "      <td>#009</td>\n",
       "      <td>*1</td>\n",
       "      <td>*0.5</td>\n",
       "      <td>*0.5</td>\n",
       "      <td>*2</td>\n",
       "      <td>*2</td>\n",
       "      <td>*0.5</td>\n",
       "      <td>*1</td>\n",
       "      <td>*1</td>\n",
       "      <td>*1</td>\n",
       "      <td>*1</td>\n",
       "      <td>*1</td>\n",
       "      <td>*1</td>\n",
       "      <td>*1</td>\n",
       "      <td>*1</td>\n",
       "      <td>*1</td>\n",
       "      <td>*1</td>\n",
       "      <td>*0.5</td>\n",
       "      <td>*1</td>\n",
       "    </tr>\n",
       "    <tr>\n",
       "      <th>9</th>\n",
       "      <td>Caterpie</td>\n",
       "      <td>#010</td>\n",
       "      <td>*1</td>\n",
       "      <td>*2</td>\n",
       "      <td>*1</td>\n",
       "      <td>*1</td>\n",
       "      <td>*0.5</td>\n",
       "      <td>*1</td>\n",
       "      <td>*0.5</td>\n",
       "      <td>*1</td>\n",
       "      <td>*0.5</td>\n",
       "      <td>*2</td>\n",
       "      <td>*1</td>\n",
       "      <td>*1</td>\n",
       "      <td>*2</td>\n",
       "      <td>*1</td>\n",
       "      <td>*1</td>\n",
       "      <td>*1</td>\n",
       "      <td>*1</td>\n",
       "      <td>*1</td>\n",
       "    </tr>\n",
       "  </tbody>\n",
       "</table>\n",
       "</div>"
      ],
      "text/plain": [
       "         Name Number Normal  Fire Water Electric  Grass   Ice Fighting Poison  \\\n",
       "0   Bulbasaur   #001     *1    *2  *0.5     *0.5  *0.25    *2     *0.5     *1   \n",
       "1     Ivysaur   #002     *1    *2  *0.5     *0.5  *0.25    *2     *0.5     *1   \n",
       "2    Venusaur   #003     *1    *2  *0.5     *0.5  *0.25    *2     *0.5     *1   \n",
       "3  Charmander   #004     *1  *0.5    *2       *1   *0.5  *0.5       *1     *1   \n",
       "4  Charmeleon   #005     *1  *0.5    *2       *1   *0.5  *0.5       *1     *1   \n",
       "5   Charizard   #006     *1  *0.5    *2       *2  *0.25    *1     *0.5     *1   \n",
       "6    Squirtle   #007     *1  *0.5  *0.5       *2     *2  *0.5       *1     *1   \n",
       "7   Wartortle   #008     *1  *0.5  *0.5       *2     *2  *0.5       *1     *1   \n",
       "8   Blastoise   #009     *1  *0.5  *0.5       *2     *2  *0.5       *1     *1   \n",
       "9    Caterpie   #010     *1    *2    *1       *1   *0.5    *1     *0.5     *1   \n",
       "\n",
       "  Ground Flying Psychic    Bug Rock Ghost Dragon Dark Steel Fairy  \n",
       "0     *1     *2      *2     *1   *1    *1     *1   *1    *1  *0.5  \n",
       "1     *1     *2      *2     *1   *1    *1     *1   *1    *1  *0.5  \n",
       "2     *1     *2      *2     *1   *1    *1     *1   *1    *1  *0.5  \n",
       "3     *2     *1      *1   *0.5   *2    *1     *1   *1  *0.5  *0.5  \n",
       "4     *2     *1      *1   *0.5   *2    *1     *1   *1  *0.5  *0.5  \n",
       "5     *0     *1      *1  *0.25   *4    *1     *1   *1  *0.5  *0.5  \n",
       "6     *1     *1      *1     *1   *1    *1     *1   *1  *0.5    *1  \n",
       "7     *1     *1      *1     *1   *1    *1     *1   *1  *0.5    *1  \n",
       "8     *1     *1      *1     *1   *1    *1     *1   *1  *0.5    *1  \n",
       "9   *0.5     *2      *1     *1   *2    *1     *1   *1    *1    *1  "
      ]
     },
     "execution_count": 15,
     "metadata": {},
     "output_type": "execute_result"
    }
   ],
   "source": [
    "poki.head(10)"
   ]
  },
  {
   "cell_type": "code",
   "execution_count": 16,
   "metadata": {},
   "outputs": [
    {
     "data": {
      "text/html": [
       "<div>\n",
       "<style scoped>\n",
       "    .dataframe tbody tr th:only-of-type {\n",
       "        vertical-align: middle;\n",
       "    }\n",
       "\n",
       "    .dataframe tbody tr th {\n",
       "        vertical-align: top;\n",
       "    }\n",
       "\n",
       "    .dataframe thead th {\n",
       "        text-align: right;\n",
       "    }\n",
       "</style>\n",
       "<table border=\"1\" class=\"dataframe\">\n",
       "  <thead>\n",
       "    <tr style=\"text-align: right;\">\n",
       "      <th></th>\n",
       "      <th>Name</th>\n",
       "      <th>Number</th>\n",
       "      <th>Normal</th>\n",
       "      <th>Fire</th>\n",
       "      <th>Water</th>\n",
       "      <th>Electric</th>\n",
       "      <th>Grass</th>\n",
       "      <th>Ice</th>\n",
       "      <th>Fighting</th>\n",
       "      <th>Poison</th>\n",
       "      <th>Ground</th>\n",
       "      <th>Flying</th>\n",
       "      <th>Psychic</th>\n",
       "      <th>Bug</th>\n",
       "      <th>Rock</th>\n",
       "      <th>Ghost</th>\n",
       "      <th>Dragon</th>\n",
       "      <th>Dark</th>\n",
       "      <th>Steel</th>\n",
       "      <th>Fairy</th>\n",
       "    </tr>\n",
       "  </thead>\n",
       "  <tbody>\n",
       "    <tr>\n",
       "      <th>571</th>\n",
       "      <td>Eternatus</td>\n",
       "      <td>#890</td>\n",
       "      <td>*1</td>\n",
       "      <td>*0.5</td>\n",
       "      <td>*0.5</td>\n",
       "      <td>*0.5</td>\n",
       "      <td>*0.25</td>\n",
       "      <td>*2</td>\n",
       "      <td>*0.5</td>\n",
       "      <td>*0.5</td>\n",
       "      <td>*2</td>\n",
       "      <td>*1</td>\n",
       "      <td>*2</td>\n",
       "      <td>*0.5</td>\n",
       "      <td>*1</td>\n",
       "      <td>*1</td>\n",
       "      <td>*2</td>\n",
       "      <td>*1</td>\n",
       "      <td>*1</td>\n",
       "      <td>*1</td>\n",
       "    </tr>\n",
       "    <tr>\n",
       "      <th>572</th>\n",
       "      <td>Kubfu</td>\n",
       "      <td>#891</td>\n",
       "      <td>*1</td>\n",
       "      <td>*1</td>\n",
       "      <td>*1</td>\n",
       "      <td>*1</td>\n",
       "      <td>*1</td>\n",
       "      <td>*1</td>\n",
       "      <td>*1</td>\n",
       "      <td>*1</td>\n",
       "      <td>*1</td>\n",
       "      <td>*2</td>\n",
       "      <td>*2</td>\n",
       "      <td>*0.5</td>\n",
       "      <td>*0.5</td>\n",
       "      <td>*1</td>\n",
       "      <td>*1</td>\n",
       "      <td>*0.5</td>\n",
       "      <td>*1</td>\n",
       "      <td>*2</td>\n",
       "    </tr>\n",
       "    <tr>\n",
       "      <th>573</th>\n",
       "      <td>Urshifu</td>\n",
       "      <td>#892</td>\n",
       "      <td>*1</td>\n",
       "      <td>*1</td>\n",
       "      <td>*1</td>\n",
       "      <td>*1</td>\n",
       "      <td>*1</td>\n",
       "      <td>*1</td>\n",
       "      <td>*2</td>\n",
       "      <td>*1</td>\n",
       "      <td>*1</td>\n",
       "      <td>*2</td>\n",
       "      <td>*0</td>\n",
       "      <td>*1</td>\n",
       "      <td>*0.5</td>\n",
       "      <td>*0.5</td>\n",
       "      <td>*1</td>\n",
       "      <td>*0.25</td>\n",
       "      <td>*1</td>\n",
       "      <td>*4</td>\n",
       "    </tr>\n",
       "    <tr>\n",
       "      <th>574</th>\n",
       "      <td>Urshifu Rapid Strike</td>\n",
       "      <td>#892</td>\n",
       "      <td>*1</td>\n",
       "      <td>*0.5</td>\n",
       "      <td>*0.5</td>\n",
       "      <td>*2</td>\n",
       "      <td>*2</td>\n",
       "      <td>*0.5</td>\n",
       "      <td>*1</td>\n",
       "      <td>*1</td>\n",
       "      <td>*1</td>\n",
       "      <td>*2</td>\n",
       "      <td>*2</td>\n",
       "      <td>*0.5</td>\n",
       "      <td>*0.5</td>\n",
       "      <td>*1</td>\n",
       "      <td>*1</td>\n",
       "      <td>*0.5</td>\n",
       "      <td>*0.5</td>\n",
       "      <td>*2</td>\n",
       "    </tr>\n",
       "    <tr>\n",
       "      <th>575</th>\n",
       "      <td>Zarude</td>\n",
       "      <td>#893</td>\n",
       "      <td>*1</td>\n",
       "      <td>*2</td>\n",
       "      <td>*0.5</td>\n",
       "      <td>*0.5</td>\n",
       "      <td>*0.5</td>\n",
       "      <td>*2</td>\n",
       "      <td>*2</td>\n",
       "      <td>*2</td>\n",
       "      <td>*0.5</td>\n",
       "      <td>*2</td>\n",
       "      <td>*0</td>\n",
       "      <td>*4</td>\n",
       "      <td>*1</td>\n",
       "      <td>*0.5</td>\n",
       "      <td>*1</td>\n",
       "      <td>*0.5</td>\n",
       "      <td>*1</td>\n",
       "      <td>*2</td>\n",
       "    </tr>\n",
       "  </tbody>\n",
       "</table>\n",
       "</div>"
      ],
      "text/plain": [
       "                     Name Number Normal  Fire Water Electric  Grass   Ice  \\\n",
       "571             Eternatus   #890     *1  *0.5  *0.5     *0.5  *0.25    *2   \n",
       "572                 Kubfu   #891     *1    *1    *1       *1     *1    *1   \n",
       "573               Urshifu   #892     *1    *1    *1       *1     *1    *1   \n",
       "574  Urshifu Rapid Strike   #892     *1  *0.5  *0.5       *2     *2  *0.5   \n",
       "575                Zarude   #893     *1    *2  *0.5     *0.5   *0.5    *2   \n",
       "\n",
       "    Fighting Poison Ground Flying Psychic   Bug  Rock Ghost Dragon   Dark  \\\n",
       "571     *0.5   *0.5     *2     *1      *2  *0.5    *1    *1     *2     *1   \n",
       "572       *1     *1     *1     *2      *2  *0.5  *0.5    *1     *1   *0.5   \n",
       "573       *2     *1     *1     *2      *0    *1  *0.5  *0.5     *1  *0.25   \n",
       "574       *1     *1     *1     *2      *2  *0.5  *0.5    *1     *1   *0.5   \n",
       "575       *2     *2   *0.5     *2      *0    *4    *1  *0.5     *1   *0.5   \n",
       "\n",
       "    Steel Fairy  \n",
       "571    *1    *1  \n",
       "572    *1    *2  \n",
       "573    *1    *4  \n",
       "574  *0.5    *2  \n",
       "575    *1    *2  "
      ]
     },
     "execution_count": 16,
     "metadata": {},
     "output_type": "execute_result"
    }
   ],
   "source": [
    "poki.tail()"
   ]
  },
  {
   "cell_type": "code",
   "execution_count": 5,
   "metadata": {},
   "outputs": [
    {
     "data": {
      "text/html": [
       "<div>\n",
       "<style scoped>\n",
       "    .dataframe tbody tr th:only-of-type {\n",
       "        vertical-align: middle;\n",
       "    }\n",
       "\n",
       "    .dataframe tbody tr th {\n",
       "        vertical-align: top;\n",
       "    }\n",
       "\n",
       "    .dataframe thead th {\n",
       "        text-align: right;\n",
       "    }\n",
       "</style>\n",
       "<table border=\"1\" class=\"dataframe\">\n",
       "  <thead>\n",
       "    <tr style=\"text-align: right;\">\n",
       "      <th></th>\n",
       "      <th>Unnamed: 0</th>\n",
       "      <th>Date</th>\n",
       "      <th>Day</th>\n",
       "      <th>High Temp (°F)</th>\n",
       "      <th>Low Temp (°F)</th>\n",
       "      <th>Precipitation</th>\n",
       "      <th>Brooklyn Bridge</th>\n",
       "      <th>Manhattan Bridge</th>\n",
       "      <th>Williamsburg Bridge</th>\n",
       "      <th>Queensboro Bridge</th>\n",
       "      <th>Total</th>\n",
       "    </tr>\n",
       "  </thead>\n",
       "  <tbody>\n",
       "    <tr>\n",
       "      <th>0</th>\n",
       "      <td>0</td>\n",
       "      <td>01-04-2016 00:00</td>\n",
       "      <td>01-04-2016 00:00</td>\n",
       "      <td>78.1</td>\n",
       "      <td>66.0</td>\n",
       "      <td>0.01</td>\n",
       "      <td>1704</td>\n",
       "      <td>3126</td>\n",
       "      <td>4115</td>\n",
       "      <td>2552</td>\n",
       "      <td>11497</td>\n",
       "    </tr>\n",
       "    <tr>\n",
       "      <th>1</th>\n",
       "      <td>1</td>\n",
       "      <td>02-04-2016 00:00</td>\n",
       "      <td>02-04-2016 00:00</td>\n",
       "      <td>55.0</td>\n",
       "      <td>48.9</td>\n",
       "      <td>0.15</td>\n",
       "      <td>827</td>\n",
       "      <td>1646</td>\n",
       "      <td>2565</td>\n",
       "      <td>1884</td>\n",
       "      <td>6922</td>\n",
       "    </tr>\n",
       "    <tr>\n",
       "      <th>2</th>\n",
       "      <td>2</td>\n",
       "      <td>03-04-2016 00:00</td>\n",
       "      <td>03-04-2016 00:00</td>\n",
       "      <td>39.9</td>\n",
       "      <td>34.0</td>\n",
       "      <td>0.09</td>\n",
       "      <td>526</td>\n",
       "      <td>1232</td>\n",
       "      <td>1695</td>\n",
       "      <td>1306</td>\n",
       "      <td>4759</td>\n",
       "    </tr>\n",
       "    <tr>\n",
       "      <th>3</th>\n",
       "      <td>3</td>\n",
       "      <td>04-04-2016 00:00</td>\n",
       "      <td>04-04-2016 00:00</td>\n",
       "      <td>44.1</td>\n",
       "      <td>33.1</td>\n",
       "      <td>0.47 (S)</td>\n",
       "      <td>521</td>\n",
       "      <td>1067</td>\n",
       "      <td>1440</td>\n",
       "      <td>1307</td>\n",
       "      <td>4335</td>\n",
       "    </tr>\n",
       "    <tr>\n",
       "      <th>4</th>\n",
       "      <td>4</td>\n",
       "      <td>05-04-2016 00:00</td>\n",
       "      <td>05-04-2016 00:00</td>\n",
       "      <td>42.1</td>\n",
       "      <td>26.1</td>\n",
       "      <td>0</td>\n",
       "      <td>1416</td>\n",
       "      <td>2617</td>\n",
       "      <td>3081</td>\n",
       "      <td>2357</td>\n",
       "      <td>9471</td>\n",
       "    </tr>\n",
       "  </tbody>\n",
       "</table>\n",
       "</div>"
      ],
      "text/plain": [
       "   Unnamed: 0              Date               Day  High Temp (°F)  \\\n",
       "0           0  01-04-2016 00:00  01-04-2016 00:00            78.1   \n",
       "1           1  02-04-2016 00:00  02-04-2016 00:00            55.0   \n",
       "2           2  03-04-2016 00:00  03-04-2016 00:00            39.9   \n",
       "3           3  04-04-2016 00:00  04-04-2016 00:00            44.1   \n",
       "4           4  05-04-2016 00:00  05-04-2016 00:00            42.1   \n",
       "\n",
       "   Low Temp (°F) Precipitation  Brooklyn Bridge  Manhattan Bridge  \\\n",
       "0           66.0          0.01             1704              3126   \n",
       "1           48.9          0.15              827              1646   \n",
       "2           34.0          0.09              526              1232   \n",
       "3           33.1      0.47 (S)              521              1067   \n",
       "4           26.1             0             1416              2617   \n",
       "\n",
       "   Williamsburg Bridge  Queensboro Bridge  Total  \n",
       "0                 4115               2552  11497  \n",
       "1                 2565               1884   6922  \n",
       "2                 1695               1306   4759  \n",
       "3                 1440               1307   4335  \n",
       "4                 3081               2357   9471  "
      ]
     },
     "execution_count": 5,
     "metadata": {},
     "output_type": "execute_result"
    }
   ],
   "source": [
    "byc=pd.read_csv(\"bicyclecrossingcount.csv\")\n",
    "byc.head()"
   ]
  },
  {
   "cell_type": "code",
   "execution_count": 27,
   "metadata": {
    "scrolled": true
   },
   "outputs": [
    {
     "data": {
      "text/plain": [
       "<matplotlib.axes._subplots.AxesSubplot at 0x5007334790>"
      ]
     },
     "execution_count": 27,
     "metadata": {},
     "output_type": "execute_result"
    },
    {
     "data": {
      "image/png": "[encoded data removed]",
      "text/plain": [
       "<Figure size 432x288 with 1 Axes>"
      ]
     },
     "metadata": {
      "needs_background": "light"
     },
     "output_type": "display_data"
    }
   ],
   "source": [
    "sns.barplot(x=\"Brooklyn Bridge\",y=\"Manhattan Bridge\",data=byc)"
   ]
  },
  {
   "cell_type": "code",
   "execution_count": 31,
   "metadata": {},
   "outputs": [
    {
     "data": {
      "text/plain": [
       "<matplotlib.axes._subplots.AxesSubplot at 0x5007548e80>"
      ]
     },
     "execution_count": 31,
     "metadata": {},
     "output_type": "execute_result"
    },
    {
     "data": {
      "image/png": "[encoded data removed]",
      "text/plain": [
       "<Figure size 432x288 with 1 Axes>"
      ]
     },
     "metadata": {
      "needs_background": "light"
     },
     "output_type": "display_data"
    }
   ],
   "source": [
    "sns.barplot(x=\"High Temp (°F)\",y=\"Brooklyn Bridge\",palette=\"rocket\",data=byc)"
   ]
  },
  {
   "cell_type": "code",
   "execution_count": 33,
   "metadata": {},
   "outputs": [
    {
     "data": {
      "text/plain": [
       "<matplotlib.axes._subplots.AxesSubplot at 0x500cee8df0>"
      ]
     },
     "execution_count": 33,
     "metadata": {},
     "output_type": "execute_result"
    },
    {
     "data": {
      "image/png": "[encoded data removed]",
      "text/plain": [
       "<Figure size 432x288 with 1 Axes>"
      ]
     },
     "metadata": {
      "needs_background": "light"
     },
     "output_type": "display_data"
    }
   ],
   "source": [
    "sns.barplot(x=\"High Temp (°F)\",y=\"Brooklyn Bridge\",palette=\"vlag\",data=byc)"
   ]
  },
  {
   "cell_type": "code",
   "execution_count": 34,
   "metadata": {},
   "outputs": [],
   "source": [
    "#scatter plot"
   ]
  },
  {
   "cell_type": "code",
   "execution_count": 35,
   "metadata": {},
   "outputs": [
    {
     "data": {
      "text/plain": [
       "<matplotlib.axes._subplots.AxesSubplot at 0x500d02f220>"
      ]
     },
     "execution_count": 35,
     "metadata": {},
     "output_type": "execute_result"
    },
    {
     "data": {
      "image/png": "[encoded data removed]",
      "text/plain": [
       "<Figure size 432x288 with 1 Axes>"
      ]
     },
     "metadata": {
      "needs_background": "light"
     },
     "output_type": "display_data"
    }
   ],
   "source": [
    "sns.scatterplot(x=\"Brooklyn Bridge\",y=\"Manhattan Bridge\",data=byc)"
   ]
  },
  {
   "cell_type": "code",
   "execution_count": 38,
   "metadata": {},
   "outputs": [
    {
     "data": {
      "text/plain": [
       "<matplotlib.axes._subplots.AxesSubplot at 0x500d08d0d0>"
      ]
     },
     "execution_count": 38,
     "metadata": {},
     "output_type": "execute_result"
    },
    {
     "data": {
      "image/png": "[encoded data removed]",
      "text/plain": [
       "<Figure size 432x288 with 1 Axes>"
      ]
     },
     "metadata": {
      "needs_background": "light"
     },
     "output_type": "display_data"
    }
   ],
   "source": [
    "sns.scatterplot(x=\"Total\",y=\"High Temp (°F)\",data=byc)"
   ]
  },
  {
   "cell_type": "code",
   "execution_count": 6,
   "metadata": {},
   "outputs": [
    {
     "data": {
      "text/plain": [
       "<seaborn.axisgrid.JointGrid at 0x5857bd9e80>"
      ]
     },
     "execution_count": 6,
     "metadata": {},
     "output_type": "execute_result"
    },
    {
     "data": {
      "image/png": "[encoded data removed]",
      "text/plain": [
       "<Figure size 432x432 with 3 Axes>"
      ]
     },
     "metadata": {
      "needs_background": "light"
     },
     "output_type": "display_data"
    }
   ],
   "source": [
    "sns.jointplot(x=\"Brooklyn Bridge\",y=\"Manhattan Bridge\",data=byc,kind=\"kde\")"
   ]
  },
  {
   "cell_type": "code",
   "execution_count": null,
   "metadata": {},
   "outputs": [],
   "source": []
  }
 ],
 "metadata": {
  "kernelspec": {
   "display_name": "Python 3",
   "language": "python",
   "name": "python3"
  },
  "language_info": {
   "codemirror_mode": {
    "name": "ipython",
    "version": 3
   },
   "file_extension": ".py",
   "mimetype": "text/x-python",
   "name": "python",
   "nbconvert_exporter": "python",
   "pygments_lexer": "ipython3",
   "version": "3.8.3"
  }
 },
 "nbformat": 4,
 "nbformat_minor": 4
}
