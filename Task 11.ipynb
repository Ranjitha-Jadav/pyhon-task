{
 "cells": [
  {
   "cell_type": "code",
   "execution_count": null,
   "metadata": {},
   "outputs": [],
   "source": [
    "#TASK 11\n",
    "#ask 2 numbers from users and store it in num1 and num2\n",
    "#ask user to press 1 for addintion 2 for subtraction 3 for multiplication 4 for division\n",
    "#creat 4 separate function for each operation\n",
    "#based on the number ginen by user call thatperticular function and print output"
   ]
  },
  {
   "cell_type": "code",
   "execution_count": 14,
   "metadata": {},
   "outputs": [
    {
     "name": "stdout",
     "output_type": "stream",
     "text": [
      "enter first number=2\n",
      "enter second number=4\n",
      "select operation\n",
      "1 for addition\n",
      "2 for subtraction\n",
      "3 for multiplication\n",
      "4 for division\n",
      "enter choice=3\n",
      "2 * 4 = 8\n"
     ]
    }
   ],
   "source": [
    "\n",
    "num1=int(input(\"enter first number=\"))\n",
    "num2=int(input(\"enter second number=\"))\n",
    "print(\"select operation\")\n",
    "print(\"1 for addition\")\n",
    "print(\"2 for subtraction\")\n",
    "print(\"3 for multiplication\")\n",
    "print(\"4 for division\")\n",
    "choice=input(\"enter choice=\")\n",
    "def add(x,y):\n",
    "    return(x+y)\n",
    "def sub(x,y):\n",
    "    return(x-y)\n",
    "def mult(x,y):\n",
    "    return(x*y)\n",
    "def div(x,y):\n",
    "    return(x/y)\n",
    "\n",
    "if(choice==\"1\"):\n",
    "    print(num1,\"+\",num2,\"=\",add(num1,num2))\n",
    "elif(choice==\"2\"):\n",
    "    print(num1,\"-\",num2,\"=\",sub(num1,num2))\n",
    "elif(choice==\"3\"):\n",
    "    print(num1,\"*\",num2,\"=\",mult(num1,num2))\n",
    "elif(choice==\"4\"):\n",
    "    print(num1,\"/\",num2,\"=\",div(num1,num2))\n",
    "else:\n",
    "    print(\"invalide choice\")"
   ]
  },
  {
   "cell_type": "code",
   "execution_count": null,
   "metadata": {},
   "outputs": [],
   "source": []
  },
  {
   "cell_type": "code",
   "execution_count": 12,
   "metadata": {},
   "outputs": [
    {
     "name": "stdout",
     "output_type": "stream",
     "text": [
      "enter num1=3\n",
      "enter num2=4\n",
      "choose 1 for addition\n",
      "choose 2 for subtraction\n",
      "choose 3 for multiplication\n",
      "choose 4 for division\n",
      "choice=5\n",
      "operator not matching\n"
     ]
    }
   ],
   "source": [
    "def add(x,y):\n",
    "    return(x+y)\n",
    "def sub(x,y):\n",
    "    return(x-y)\n",
    "def mul(x,y):\n",
    "    return(x*y)\n",
    "def div(x,y):\n",
    "    return(x/y)\n",
    "num1=int(input(\"enter num1=\"))\n",
    "num2=int(input(\"enter num2=\"))  \n",
    "print(\"choose 1 for addition\")\n",
    "print(\"choose 2 for subtraction\")\n",
    "print(\"choose 3 for multiplication\")\n",
    "print(\"choose 4 for division\")\n",
    "choose=int(input('choice='))\n",
    " \n",
    "if(choose==1):\n",
    "    print(add(num1,num2))\n",
    "elif(choose==2):\n",
    "    print(sub(num1,num2))\n",
    "elif(choose==3):\n",
    "    print(mul(num1,num2))\n",
    "elif(choose==4):  \n",
    "    print(div(num1,num2))\n",
    "    \n",
    "else:\n",
    "    print(\"operator not matching\")    "
   ]
  },
  {
   "cell_type": "code",
   "execution_count": null,
   "metadata": {},
   "outputs": [],
   "source": []
  }
 ],
 "metadata": {
  "kernelspec": {
   "display_name": "Python 3",
   "language": "python",
   "name": "python3"
  },
  "language_info": {
   "codemirror_mode": {
    "name": "ipython",
    "version": 3
   },
   "file_extension": ".py",
   "mimetype": "text/x-python",
   "name": "python",
   "nbconvert_exporter": "python",
   "pygments_lexer": "ipython3",
   "version": "3.8.3"
  }
 },
 "nbformat": 4,
 "nbformat_minor": 4
}
