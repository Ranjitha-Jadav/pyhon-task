{
 "cells": [
  {
   "cell_type": "code",
   "execution_count": 1,
   "metadata": {},
   "outputs": [],
   "source": [
    "#task 7"
   ]
  },
  {
   "cell_type": "code",
   "execution_count": 2,
   "metadata": {},
   "outputs": [],
   "source": [
    "#difference()\n",
    "\n",
    "#syntax\n",
    "#set_A.difference(set_B)---------for A-B\n",
    "#set_B.difference(set_A)---------for B-A"
   ]
  },
  {
   "cell_type": "code",
   "execution_count": 3,
   "metadata": {},
   "outputs": [
    {
     "name": "stdout",
     "output_type": "stream",
     "text": [
      "{2, 6}\n",
      "{10, 50, 20, 30}\n"
     ]
    }
   ],
   "source": [
    "#ex\n",
    "A={1,4,6,8,4,2}\n",
    "B={10,20,1,4,8,30,50}\n",
    "print(A.difference(B))\n",
    "print(B.difference(A))"
   ]
  },
  {
   "cell_type": "code",
   "execution_count": 5,
   "metadata": {},
   "outputs": [
    {
     "name": "stdout",
     "output_type": "stream",
     "text": [
      "{200, 400, 'mango'}\n",
      "{'grapes', 300, 'papaya'}\n"
     ]
    }
   ],
   "source": [
    "#ex\n",
    "set1={\"apple\",\"mango\",\"banana\",100,200,400,500}\n",
    "set2={300,100,\"apple\",\"grapes\",\"papaya\",\"banana\",500}\n",
    "print(set1.difference(set2))\n",
    "print(set2.difference(set1))"
   ]
  },
  {
   "cell_type": "code",
   "execution_count": 6,
   "metadata": {},
   "outputs": [
    {
     "name": "stdout",
     "output_type": "stream",
     "text": [
      "set()\n",
      "set()\n"
     ]
    }
   ],
   "source": [
    "#ex\n",
    "a={1,2,3,4}\n",
    "b={1,2,3,4}\n",
    "print(a.difference(b))\n",
    "print(b.difference(a))"
   ]
  },
  {
   "cell_type": "code",
   "execution_count": 7,
   "metadata": {},
   "outputs": [],
   "source": [
    "#symmetric_difference()\n",
    "\n",
    "#syntax\n",
    "# A.symmetric_difference(B)"
   ]
  },
  {
   "cell_type": "code",
   "execution_count": 9,
   "metadata": {},
   "outputs": [
    {
     "name": "stdout",
     "output_type": "stream",
     "text": [
      "{0, 1, 3, 4, 5, 8, 9}\n",
      "{0, 1, 3, 4, 5, 8, 9}\n"
     ]
    }
   ],
   "source": [
    "#ex\n",
    "A={1,4,2,7,9,0}\n",
    "B={2,3,5,7,2,8}\n",
    "print(A.symmetric_difference(B))\n",
    "print(B.symmetric_difference(A))"
   ]
  },
  {
   "cell_type": "code",
   "execution_count": 11,
   "metadata": {},
   "outputs": [
    {
     "name": "stdout",
     "output_type": "stream",
     "text": [
      "{'x', 'a', 'l', 'd', 'w', 'n', 'b'}\n",
      "{'a', 'x', 'l', 'd', 'w', 'n', 'b'}\n"
     ]
    }
   ],
   "source": [
    "#ex\n",
    "set1={'a','d','y','o','p','f'}\n",
    "set2={'f','p','l','o','w','y','b','n','x'}\n",
    "print(set1.symmetric_difference(set2))\n",
    "print(set2.symmetric_difference(set1))"
   ]
  },
  {
   "cell_type": "code",
   "execution_count": null,
   "metadata": {},
   "outputs": [],
   "source": []
  }
 ],
 "metadata": {
  "kernelspec": {
   "display_name": "Python 3",
   "language": "python",
   "name": "python3"
  },
  "language_info": {
   "codemirror_mode": {
    "name": "ipython",
    "version": 3
   },
   "file_extension": ".py",
   "mimetype": "text/x-python",
   "name": "python",
   "nbconvert_exporter": "python",
   "pygments_lexer": "ipython3",
   "version": "3.8.3"
  }
 },
 "nbformat": 4,
 "nbformat_minor": 4
}
