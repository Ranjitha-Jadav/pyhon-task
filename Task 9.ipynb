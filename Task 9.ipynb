{
 "cells": [
  {
   "cell_type": "code",
   "execution_count": 1,
   "metadata": {},
   "outputs": [],
   "source": [
    "#task 9"
   ]
  },
  {
   "cell_type": "code",
   "execution_count": 3,
   "metadata": {},
   "outputs": [],
   "source": [
    "\n",
    "#ask 2 number from users and store it in num1 and num2\n",
    "#askuser to press 1 for addition,2 for subtraction,3 for multi,4 dor division\n",
    "#based on number given by the user do math operation\n"
   ]
  },
  {
   "cell_type": "code",
   "execution_count": 4,
   "metadata": {},
   "outputs": [
    {
     "name": "stdout",
     "output_type": "stream",
     "text": [
      "enter num1=3\n",
      "enter num2=5\n",
      "choose 1 for addition\n",
      "choose 2 for subtraction\n",
      "choose 3 for multiplication\n",
      "choose 4 for division\n",
      "choose=1\n",
      "result= 8\n"
     ]
    }
   ],
   "source": [
    "num1=int(input(\"enter num1=\"))\n",
    "num2=int(input(\"enter num2=\"))\n",
    "print(\"choose 1 for addition\")\n",
    "print(\"choose 2 for subtraction\")\n",
    "print(\"choose 3 for multiplication\")\n",
    "print(\"choose 4 for division\")\n",
    "choose=int(input('choose='))\n",
    "if(choose==1):\n",
    "    res=num1+num2\n",
    "    print(\"result=\",res)\n",
    "elif(choose==2):\n",
    "    res=num1-num2\n",
    "    print(\"result=\",res)\n",
    "elif(choose==3):\n",
    "    res=num1*num2\n",
    "    print(\"result=\",res)\n",
    "elif(choose==4):\n",
    "    res=num1/num2\n",
    "    print(\"result=\",res)\n",
    "else:\n",
    "    print(\"operator not matching\")"
   ]
  },
  {
   "cell_type": "code",
   "execution_count": 5,
   "metadata": {},
   "outputs": [
    {
     "name": "stdout",
     "output_type": "stream",
     "text": [
      "enter num1=3\n",
      "enter num2=5\n",
      "choose 1 for addition\n",
      "choose 2 for subtraction\n",
      "choose 3 for multiplication\n",
      "choose 4 for division\n",
      "choose=2\n",
      "result= -2\n"
     ]
    }
   ],
   "source": [
    "num1=int(input(\"enter num1=\"))\n",
    "num2=int(input(\"enter num2=\"))\n",
    "print(\"choose 1 for addition\")\n",
    "print(\"choose 2 for subtraction\")\n",
    "print(\"choose 3 for multiplication\")\n",
    "print(\"choose 4 for division\")\n",
    "choose=int(input('choose='))\n",
    "if(choose==1):\n",
    "    res=num1+num2\n",
    "    print(\"result=\",res)\n",
    "elif(choose==2):\n",
    "    res=num1-num2\n",
    "    print(\"result=\",res)\n",
    "elif(choose==3):\n",
    "    res=num1*num2\n",
    "    print(\"result=\",res)\n",
    "elif(choose==4):\n",
    "    res=num1/num2\n",
    "    print(\"result=\",res)\n",
    "else:\n",
    "    print(\"operator not matching\")"
   ]
  },
  {
   "cell_type": "code",
   "execution_count": 6,
   "metadata": {},
   "outputs": [
    {
     "name": "stdout",
     "output_type": "stream",
     "text": [
      "enter num1=3\n",
      "enter num2=5\n",
      "choose 1 for addition\n",
      "choose 2 for subtraction\n",
      "choose 3 for multiplication\n",
      "choose 4 for division\n",
      "choose=3\n",
      "result= 15\n"
     ]
    }
   ],
   "source": [
    "num1=int(input(\"enter num1=\"))\n",
    "num2=int(input(\"enter num2=\"))\n",
    "print(\"choose 1 for addition\")\n",
    "print(\"choose 2 for subtraction\")\n",
    "print(\"choose 3 for multiplication\")\n",
    "print(\"choose 4 for division\")\n",
    "choose=int(input('choose='))\n",
    "if(choose==1):\n",
    "    res=num1+num2\n",
    "    print(\"result=\",res)\n",
    "elif(choose==2):\n",
    "    res=num1-num2\n",
    "    print(\"result=\",res)\n",
    "elif(choose==3):\n",
    "    res=num1*num2\n",
    "    print(\"result=\",res)\n",
    "elif(choose==4):\n",
    "    res=num1/num2\n",
    "    print(\"result=\",res)\n",
    "else:\n",
    "    print(\"operator not matching\")"
   ]
  },
  {
   "cell_type": "code",
   "execution_count": 7,
   "metadata": {},
   "outputs": [
    {
     "name": "stdout",
     "output_type": "stream",
     "text": [
      "enter num1=3\n",
      "enter num2=5\n",
      "choose 1 for addition\n",
      "choose 2 for subtraction\n",
      "choose 3 for multiplication\n",
      "choose 4 for division\n",
      "choose=4\n",
      "result= 0.6\n"
     ]
    }
   ],
   "source": [
    "num1=int(input(\"enter num1=\"))\n",
    "num2=int(input(\"enter num2=\"))\n",
    "print(\"choose 1 for addition\")\n",
    "print(\"choose 2 for subtraction\")\n",
    "print(\"choose 3 for multiplication\")\n",
    "print(\"choose 4 for division\")\n",
    "choose=int(input('choose='))\n",
    "if(choose==1):\n",
    "    res=num1+num2\n",
    "    print(\"result=\",res)\n",
    "elif(choose==2):\n",
    "    res=num1-num2\n",
    "    print(\"result=\",res)\n",
    "elif(choose==3):\n",
    "    res=num1*num2\n",
    "    print(\"result=\",res)\n",
    "elif(choose==4):\n",
    "    res=num1/num2\n",
    "    print(\"result=\",res)\n",
    "else:\n",
    "    print(\"operator not matching\")"
   ]
  },
  {
   "cell_type": "code",
   "execution_count": null,
   "metadata": {},
   "outputs": [],
   "source": []
  }
 ],
 "metadata": {
  "kernelspec": {
   "display_name": "Python 3",
   "language": "python",
   "name": "python3"
  },
  "language_info": {
   "codemirror_mode": {
    "name": "ipython",
    "version": 3
   },
   "file_extension": ".py",
   "mimetype": "text/x-python",
   "name": "python",
   "nbconvert_exporter": "python",
   "pygments_lexer": "ipython3",
   "version": "3.8.3"
  }
 },
 "nbformat": 4,
 "nbformat_minor": 4
}
