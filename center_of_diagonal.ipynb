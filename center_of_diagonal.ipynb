{
 "cells": [
  {
   "cell_type": "markdown",
   "metadata": {},
   "source": [
    "if x1,y1 and x2,y2 are the coordinates of opposite verticies of the square, find out the center of diagonal of square"
   ]
  },
  {
   "cell_type": "code",
   "execution_count": 10,
   "metadata": {},
   "outputs": [
    {
     "name": "stdout",
     "output_type": "stream",
     "text": [
      "enter x1:2\n",
      "enter y1:4\n",
      "enter x2:3\n",
      "enter y2:5\n",
      "center of diagonal of the square is (2.5, 4.5)\n"
     ]
    }
   ],
   "source": [
    "x1=int(input('enter x1:'))\n",
    "y1=int(input('enter y1:'))\n",
    "x2=int(input('enter x2:'))\n",
    "y2=int(input('enter y2:'))\n",
    "\n",
    "CD = (((x1+x2)/2), ((y1+y2)/2))\n",
    "\n",
    "print('center of diagonal of the square is {}'.format(CD))\n"
   ]
  },
  {
   "cell_type": "code",
   "execution_count": null,
   "metadata": {},
   "outputs": [],
   "source": []
  }
 ],
 "metadata": {
  "kernelspec": {
   "display_name": "Python 3",
   "language": "python",
   "name": "python3"
  },
  "language_info": {
   "codemirror_mode": {
    "name": "ipython",
    "version": 3
   },
   "file_extension": ".py",
   "mimetype": "text/x-python",
   "name": "python",
   "nbconvert_exporter": "python",
   "pygments_lexer": "ipython3",
   "version": "3.8.3"
  }
 },
 "nbformat": 4,
 "nbformat_minor": 4
}
