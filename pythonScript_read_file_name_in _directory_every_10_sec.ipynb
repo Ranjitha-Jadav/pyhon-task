{
 "cells": [
  {
   "cell_type": "markdown",
   "metadata": {},
   "source": [
    "# python script that will print all the file names in given directory every 10 seconds"
   ]
  },
  {
   "cell_type": "code",
   "execution_count": 1,
   "metadata": {},
   "outputs": [],
   "source": [
    "import os\n",
    "from time import sleep"
   ]
  },
  {
   "cell_type": "code",
   "execution_count": 2,
   "metadata": {},
   "outputs": [],
   "source": [
    "def print_name(path,time):\n",
    "    l1=os.listdir(path)\n",
    "    for ele in l1:\n",
    "        print(ele)\n",
    "        sleep(time)"
   ]
  },
  {
   "cell_type": "code",
   "execution_count": 3,
   "metadata": {},
   "outputs": [
    {
     "name": "stdout",
     "output_type": "stream",
     "text": [
      "Alligation.pdf\n",
      "Averages.pdf\n",
      "HCF and LCM.pdf\n",
      "percentage.pdf\n",
      "ratio and propotion.pdf\n"
     ]
    }
   ],
   "source": [
    "print_name(r'C:\\\\Users\\\\admin\\\\Desktop\\\\Aptitude',10)"
   ]
  },
  {
   "cell_type": "code",
   "execution_count": null,
   "metadata": {},
   "outputs": [],
   "source": []
  }
 ],
 "metadata": {
  "kernelspec": {
   "display_name": "Python 3",
   "language": "python",
   "name": "python3"
  },
  "language_info": {
   "codemirror_mode": {
    "name": "ipython",
    "version": 3
   },
   "file_extension": ".py",
   "mimetype": "text/x-python",
   "name": "python",
   "nbconvert_exporter": "python",
   "pygments_lexer": "ipython3",
   "version": "3.8.3"
  }
 },
 "nbformat": 4,
 "nbformat_minor": 4
}
