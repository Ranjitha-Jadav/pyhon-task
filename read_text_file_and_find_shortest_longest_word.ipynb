{
 "cells": [
  {
   "cell_type": "code",
   "execution_count": null,
   "metadata": {},
   "outputs": [],
   "source": [
    "#1. Read the text file in python, find the shortest word , longest word , average length of the words"
   ]
  },
  {
   "cell_type": "markdown",
   "metadata": {},
   "source": [
    "Longest word"
   ]
  },
  {
   "cell_type": "code",
   "execution_count": 1,
   "metadata": {},
   "outputs": [
    {
     "name": "stdout",
     "output_type": "stream",
     "text": [
      "['increments']\n"
     ]
    }
   ],
   "source": [
    "def longest_word(filename):\n",
    "    with open(filename, 'r') as infile:\n",
    "              words = infile.read().split()\n",
    "    max_len = len(max(words, key=len))\n",
    "    return [word for word in words if len(word) == max_len]\n",
    "\n",
    "print(longest_word('happy_note.txt'))"
   ]
  },
  {
   "cell_type": "markdown",
   "metadata": {},
   "source": [
    "shortest word"
   ]
  },
  {
   "cell_type": "code",
   "execution_count": 2,
   "metadata": {},
   "outputs": [
    {
     "name": "stdout",
     "output_type": "stream",
     "text": [
      "['a']\n"
     ]
    }
   ],
   "source": [
    "def shortest_word(filename):\n",
    "    with open(filename, 'r') as infile:\n",
    "              words = infile.read().split()\n",
    "    min_len = len(min(words, key=len))\n",
    "    return [word for word in words if len(word) == min_len]\n",
    "\n",
    "print(shortest_word('happy_note.txt'))"
   ]
  },
  {
   "cell_type": "markdown",
   "metadata": {},
   "source": [
    "average length of the words"
   ]
  },
  {
   "cell_type": "code",
   "execution_count": 3,
   "metadata": {},
   "outputs": [],
   "source": [
    "lc, wc = 0, 0\n",
    "with open('happy_note.txt','r') as f:\n",
    "    for line in f:\n",
    "        lc += 1\n",
    "        wc += len(line.strip().split())\n",
    "\n",
    "avg = wc / lc"
   ]
  },
  {
   "cell_type": "code",
   "execution_count": 4,
   "metadata": {},
   "outputs": [
    {
     "name": "stdout",
     "output_type": "stream",
     "text": [
      "15.0\n"
     ]
    }
   ],
   "source": [
    "print(avg)"
   ]
  },
  {
   "cell_type": "code",
   "execution_count": 5,
   "metadata": {},
   "outputs": [],
   "source": [
    "with open('happy_note.txt','r') as content:\n",
    "    lineCount = 0\n",
    "    Tot_wordCount = 0\n",
    "    lines = content.readlines()\n",
    "    for line in lines:\n",
    "        lineCount = lineCount + 1       \n",
    "        wordCount = len(line.split())\n",
    "        Tot_wordCount += wordCount"
   ]
  },
  {
   "cell_type": "code",
   "execution_count": 6,
   "metadata": {},
   "outputs": [],
   "source": [
    "avg = Tot_wordCount/lineCount"
   ]
  },
  {
   "cell_type": "code",
   "execution_count": 7,
   "metadata": {},
   "outputs": [
    {
     "name": "stdout",
     "output_type": "stream",
     "text": [
      "15.0\n"
     ]
    }
   ],
   "source": [
    "print(avg)"
   ]
  },
  {
   "cell_type": "code",
   "execution_count": null,
   "metadata": {},
   "outputs": [],
   "source": []
  }
 ],
 "metadata": {
  "kernelspec": {
   "display_name": "Python 3",
   "language": "python",
   "name": "python3"
  },
  "language_info": {
   "codemirror_mode": {
    "name": "ipython",
    "version": 3
   },
   "file_extension": ".py",
   "mimetype": "text/x-python",
   "name": "python",
   "nbconvert_exporter": "python",
   "pygments_lexer": "ipython3",
   "version": "3.8.3"
  }
 },
 "nbformat": 4,
 "nbformat_minor": 4
}
