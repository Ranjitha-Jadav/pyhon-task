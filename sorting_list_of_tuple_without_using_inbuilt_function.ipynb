{
 "cells": [
  {
   "cell_type": "code",
   "execution_count": null,
   "metadata": {},
   "outputs": [],
   "source": [
    "#2 write a program to sort the list of tuples bt values without using the inbuilt function"
   ]
  },
  {
   "cell_type": "code",
   "execution_count": 8,
   "metadata": {},
   "outputs": [],
   "source": [
    "def sort_tuples():\n",
    "    x=[(1,3),(2,10),(30,1),(10,2)]\n",
    "    for i in range(0,len(x)):\n",
    "        for j in range(i+1,len(x)):\n",
    "            if x[i][1]>x[j][1]:\n",
    "                x[i],x[j]=x[j],x[i]\n",
    "                \n",
    "    return x                "
   ]
  },
  {
   "cell_type": "code",
   "execution_count": 9,
   "metadata": {},
   "outputs": [
    {
     "name": "stdout",
     "output_type": "stream",
     "text": [
      "[(30, 1), (10, 2), (1, 3), (2, 10)]\n"
     ]
    }
   ],
   "source": [
    "print(sort_tuples())"
   ]
  },
  {
   "cell_type": "code",
   "execution_count": null,
   "metadata": {},
   "outputs": [],
   "source": []
  }
 ],
 "metadata": {
  "kernelspec": {
   "display_name": "Python 3",
   "language": "python",
   "name": "python3"
  },
  "language_info": {
   "codemirror_mode": {
    "name": "ipython",
    "version": 3
   },
   "file_extension": ".py",
   "mimetype": "text/x-python",
   "name": "python",
   "nbconvert_exporter": "python",
   "pygments_lexer": "ipython3",
   "version": "3.8.3"
  }
 },
 "nbformat": 4,
 "nbformat_minor": 4
}
